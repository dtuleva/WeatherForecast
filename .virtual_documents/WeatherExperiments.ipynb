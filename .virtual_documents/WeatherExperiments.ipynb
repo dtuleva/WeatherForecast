%matplotlib inline


import numpy as np
import pandas as pd
import matplotlib.pyplot as plt
#import seaborn as sns
import mlflow


from sklearn.compose import ColumnTransformer
from sklearn.impute import SimpleImputer
from sklearn.linear_model import Ridge
from sklearn.model_selection import train_test_split
from sklearn.pipeline import Pipeline
from sklearn.preprocessing import MinMaxScaler, FunctionTransformer

from sklearn.decomposition import PCA


import sys

print(sys.executable)
print(sys.version)











# experiment = mlflow.create_experiment(name = "naive_ridge")


run = mlflow.start_run(experiment_id = 114167891341502015)


mlflow.log_artifact("data/Samokov 2021-01-01 to 2023-09-01.csv")








mussala_weather_data_raw = pd.read_csv("data/Samokov 2021-01-01 to 2023-09-01.csv")


mussala_weather_data = mussala_weather_data_raw.copy()


mussala_weather_data["next_temp"] = mussala_weather_data.temp.shift(-2)
# mussala_weather_data["next_precip"] = mussala_weather_data.precip.shift(-2)
# mussala_weather_data["next_cloudcover"] = mussala_weather_data.cloudcover.shift(-2)


mussala_weather_data


# mussala_weather_data.loc[:,~mussala_weather_data.columns.str.startswith("next")]


mussala_weather_data = mussala_weather_data.dropna(subset=["next_temp"])


weather_features = mussala_weather_data.drop(columns = ["datetime", "next_temp"])
next_temp = mussala_weather_data.next_temp





weather_features_train, weather_features_val, next_temp_train, next_temp_val = train_test_split(weather_features, next_temp, random_state = 111)


numeric_features = [
    "tempmax",
     "tempmin",
     "temp",
     "dew",
     "humidity",
     "precip",
     "windgust",
     "windspeed",
     "winddir",
     # "sealevelpressure", # no
     "cloudcover"    
]
categorical_features = [
    "preciptype",
    "conditions"
]


log_transformer = FunctionTransformer(np.log1p, feature_names_out="one-to-one")


# def str_get_dummies(dataframe, column_name):
    
#     dummies_dataframe = dataframe[column_name].str.get_dummies(sep=",")

#     return dummies_dataframe


def str_get_dummies(dataframe):
    
    dummies_dataframe = pd.DataFrame()
    
    for column_name in dataframe.columns.tolist():
        dummies_dataframe = pd.concat([dummies_dataframe, dataframe[column_name].str.get_dummies(sep=",")], axis=1)
        
    return dummies_dataframe


str_get_dummies(mussala_weather_data[["preciptype", "conditions"]]) # check function



    


str_dummies_transformer = FunctionTransformer(str_get_dummies)
str_dummies_transformer.set_output(transform='pandas')





numeric_transformer = Pipeline(
    steps=[
        ("imputer", SimpleImputer(strategy="constant", fill_value = 0)),
        ("scaler", MinMaxScaler())
    ]
)


categorical_transformer = Pipeline(
    steps=[
        ("str_dummies", str_dummies_transformer),

    ]
)
preprocessor = ColumnTransformer(
    transformers=[
        ("num", numeric_transformer, numeric_features),
        ("cat", categorical_transformer, categorical_features),
    ]
)


# preprocessor.set_output(transform='pandas')


# preprocessor = ColumnTransformer(
#     transformers=[
#         ("numeric", numeric_transformer, numeric_features),
#         ("categorical", categorical_transformer, categorical_features),
#     ],
#      verbose_feature_names_out=False
# )


# ridge_datetime_pipe = Pipeline(
#     steps=[
#         ("preprocess", preprocessor),
#         ("ridge", Ridge())
#     ]
# )


weather_features_train_pipe = preprocessor.fit_transform(weather_features_train)


#preprocessor.get_feature_names_out()


# mlflow.log_param("train_test_split", "default")
# mlflow.log_param("train_test_split_random_state", "42")


mlflow.log_param("alpha", 0.1)
mlflow.log_param("solver", "auto")





ridge = Ridge(alpha=0.1)


ridge.fit(weather_features_train_pipe, next_temp_train)


ridge.coef_


ridge.get_params()


r2_train = ridge.score(weather_features_train_pipe, next_temp_train)
r2_train


weather_features_val_pipe = preprocessor.transform(weather_features_val)


r2_val = ridge.score(weather_features_val_pipe, next_temp_val)
r2_val


# hurrray


mlflow.log_metric("r2_train", r2_train)


mlflow.log_metric("r2_val", r2_val)





mlflow.end_run()





data_after_pipe = preprocessor.transform(mussala_weather_data)
data_after_pipe





pca = PCA()


pca.fit(data_after_pipe)


plt.bar(range(data_after_pipe.shape[1]), pca.explained_variance_ratio_)
plt.show()



